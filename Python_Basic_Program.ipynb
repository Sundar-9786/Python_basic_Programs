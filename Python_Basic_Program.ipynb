{
 "cells": [
  {
   "cell_type": "code",
   "execution_count": null,
   "id": "5feb83b1-f6c1-437a-927b-6e46263739e5",
   "metadata": {},
   "outputs": [],
   "source": []
  },
  {
   "cell_type": "code",
   "execution_count": null,
   "id": "16d6fa78-9ea6-4ec0-8c44-4688e0e35062",
   "metadata": {},
   "outputs": [],
   "source": [
    "num = int(input(\"Enter Number: \"))\n",
    "if num > 0:\n",
    "    for i in range (2,num):\n",
    "        if num % i == 0:\n",
    "            print(f\" The number {num} is not Prime Number\")\n",
    "            break\n",
    "    \n",
    "    else:\n",
    "        print(\" Prime Number\")\n",
    "else:\n",
    "    print(\" invalid number \")"
   ]
  },
  {
   "cell_type": "code",
   "execution_count": null,
   "id": "047573fa-bc5a-4a2a-8671-b86527621a68",
   "metadata": {},
   "outputs": [],
   "source": []
  },
  {
   "cell_type": "code",
   "execution_count": 76,
   "id": "960a2d3e-ba79-4dbf-a427-32828d8f156d",
   "metadata": {},
   "outputs": [
    {
     "name": "stdin",
     "output_type": "stream",
     "text": [
      " enter number  878\n"
     ]
    },
    {
     "name": "stdout",
     "output_type": "stream",
     "text": [
      " 878,878 is Palindrom \n"
     ]
    }
   ],
   "source": [
    "# Palindrom Integer\n",
    "\n",
    "num=int(input(\" enter number \"))\n",
    "string=str(num)\n",
    "iloc = string[::-1]\n",
    "reverse = int(iloc)\n",
    "\n",
    "if num == reverse:\n",
    "    print(f\" {num},{reverse} is Palindrom \")\n",
    "else:\n",
    "    print(\" Not Palindrom \")\n",
    "    "
   ]
  },
  {
   "cell_type": "code",
   "execution_count": 82,
   "id": "f804853b-1726-49b1-ba27-6c6dca701b04",
   "metadata": {},
   "outputs": [
    {
     "name": "stdin",
     "output_type": "stream",
     "text": [
      " Enter a String:  sundar\n"
     ]
    },
    {
     "name": "stdout",
     "output_type": "stream",
     "text": [
      " sundar,radnus is not Palindrom\n"
     ]
    }
   ],
   "source": [
    "# #Palindrom String\n",
    "\n",
    "word = input(\" Enter a String: \")\n",
    "\n",
    "iloc = word[::-1]\n",
    "\n",
    "if word == iloc:\n",
    "    print(f\" The Word {word} is Palindrom\")\n",
    "else:\n",
    "    print(f\" {word},{iloc} is not Palindrom\")\n",
    "    \n",
    "    \n",
    "\n"
   ]
  },
  {
   "cell_type": "code",
   "execution_count": null,
   "id": "fd34d807-aac7-4e40-acd6-01f85e31ed38",
   "metadata": {
    "scrolled": true
   },
   "outputs": [],
   "source": [
    "\n"
   ]
  },
  {
   "cell_type": "code",
   "execution_count": 74,
   "id": "6708f980-6725-4c32-a62d-6d00bd9f8eac",
   "metadata": {},
   "outputs": [
    {
     "name": "stdin",
     "output_type": "stream",
     "text": [
      "Enter Series:  10\n"
     ]
    },
    {
     "name": "stdout",
     "output_type": "stream",
     "text": [
      "0 1 1 2 3 5 8 13 21 34 "
     ]
    }
   ],
   "source": [
    "# Fibonacci series\n",
    "\n",
    "n = int(input(\"Enter Series: \"))\n",
    "a=0\n",
    "b=1\n",
    "\n",
    "\n",
    "for i in range(n):\n",
    "    print(a,end=\" \")\n",
    "    a,b = b,a+b\n",
    "        "
   ]
  },
  {
   "cell_type": "code",
   "execution_count": null,
   "id": "75474849-9eb9-4d35-8178-2b1c56a457df",
   "metadata": {},
   "outputs": [],
   "source": []
  },
  {
   "cell_type": "code",
   "execution_count": 89,
   "id": "7f4c947a-00ea-4a97-a1f8-0007a94ab4a8",
   "metadata": {},
   "outputs": [
    {
     "name": "stdin",
     "output_type": "stream",
     "text": [
      "Enter a Word:  sundar\n",
      "Enter a Word:  rsndau\n"
     ]
    },
    {
     "name": "stdout",
     "output_type": "stream",
     "text": [
      " Anagram \n"
     ]
    }
   ],
   "source": [
    "# String Anagram\n",
    "\n",
    "str1 = input(\"Enter a Word: \").lower()\n",
    "str2 = input(\"Enter a Word: \").lower()\n",
    "\n",
    "for char in str1:\n",
    "    if char not in str2:\n",
    "        print(\" Not Anagram\")\n",
    "        break\n",
    "    \n",
    "else:\n",
    "    print(\" Anagram \")\n",
    "        \n"
   ]
  },
  {
   "cell_type": "code",
   "execution_count": null,
   "id": "b40d8e4f-a3a7-44e9-91d6-b16e2acbae73",
   "metadata": {},
   "outputs": [],
   "source": []
  },
  {
   "cell_type": "code",
   "execution_count": 95,
   "id": "026a1b2f-ee5e-498f-a510-3e8eda94637e",
   "metadata": {},
   "outputs": [
    {
     "name": "stdin",
     "output_type": "stream",
     "text": [
      " Enter a Sentence:  sundar\n"
     ]
    },
    {
     "name": "stdout",
     "output_type": "stream",
     "text": [
      "sndr\n"
     ]
    }
   ],
   "source": [
    "# Vowels Removing\n",
    "\n",
    "vowels = \"a,e,i,o,u,A,E,I,O,U\"\n",
    "          \n",
    "str_without_vowels = \"\"\n",
    "\n",
    "sentence = input(\" Enter a Sentence: \")\n",
    "\n",
    "for char in sentence:\n",
    "    if char not in vowels:\n",
    "        str_without_vowels += char \n",
    "print(str_without_vowels)               "
   ]
  },
  {
   "cell_type": "code",
   "execution_count": null,
   "id": "8e0611c8-8284-47a2-8379-995d7b7cfbf1",
   "metadata": {},
   "outputs": [],
   "source": []
  },
  {
   "cell_type": "code",
   "execution_count": 123,
   "id": "b5818ef7-6d73-45d9-ab2a-851a7d28a93c",
   "metadata": {},
   "outputs": [
    {
     "name": "stdin",
     "output_type": "stream",
     "text": [
      "Enter a Number:  28\n"
     ]
    },
    {
     "name": "stdout",
     "output_type": "stream",
     "text": [
      "28\n"
     ]
    }
   ],
   "source": [
    "# Given a Number Perfect or Not\n",
    "\n",
    "num = int(input(\"Enter a Number: \"))\n",
    "sum=0\n",
    "\n",
    "\n",
    "for i in range(1,num):\n",
    "    if num % i== 0:\n",
    "        sum=sum+i\n",
    "\n",
    "print(sum)"
   ]
  },
  {
   "cell_type": "code",
   "execution_count": 124,
   "id": "6b50a299-148e-4181-a602-a48bf301ec57",
   "metadata": {},
   "outputs": [
    {
     "name": "stdin",
     "output_type": "stream",
     "text": [
      "Enter a String:  aadsundarraj\n"
     ]
    },
    {
     "name": "stdout",
     "output_type": "stream",
     "text": [
      "adsunrj\n"
     ]
    }
   ],
   "source": [
    "# remove duplicate in string\n",
    "\n",
    "string = input(\"Enter a String: \")\n",
    "str1 = \"\"\n",
    "\n",
    "for char in string:\n",
    "    if char not in str1:\n",
    "        str1+=char\n",
    "        \n",
    "print(str1)"
   ]
  },
  {
   "cell_type": "code",
   "execution_count": null,
   "id": "e8995ba9-6ba6-438f-a01c-0dba50ea47f7",
   "metadata": {},
   "outputs": [],
   "source": []
  },
  {
   "cell_type": "code",
   "execution_count": 2,
   "id": "7a2e03bf-8d00-47bf-940c-03508235d803",
   "metadata": {},
   "outputs": [
    {
     "name": "stdout",
     "output_type": "stream",
     "text": [
      "99\n"
     ]
    }
   ],
   "source": [
    "# Find maximum in array\n",
    "\n",
    "my_list = [22,36,99,1,76,72,21]\n",
    "max_num = my_list[0]\n",
    "\n",
    "for num in (my_list):\n",
    "    if num > max_num:\n",
    "        max_num = num\n",
    "    \n",
    "print(max_num)    \n"
   ]
  },
  {
   "cell_type": "code",
   "execution_count": null,
   "id": "c3027701-b459-49a1-8fb2-bafcf4760250",
   "metadata": {},
   "outputs": [],
   "source": []
  },
  {
   "cell_type": "code",
   "execution_count": 6,
   "id": "22855fea-fd28-4409-8495-153c90281c2b",
   "metadata": {},
   "outputs": [
    {
     "name": "stdout",
     "output_type": "stream",
     "text": [
      "99\n"
     ]
    },
    {
     "data": {
      "text/plain": [
       "[22, 36, 99, 1, 76, 72, 21]"
      ]
     },
     "execution_count": 6,
     "metadata": {},
     "output_type": "execute_result"
    }
   ],
   "source": [
    "# Find maximum in array\n",
    "\n",
    "my_list = [22,36,99,1,76,72,21]\n",
    "max_num = my_list[0]\n",
    "\n",
    "second_lar=[]\n",
    "\n",
    "for num in (my_list):\n",
    "    second_lar.append(num)\n",
    "    if num > max_num:\n",
    "        max_num = num\n",
    "        \n",
    "    \n",
    "print(max_num)"
   ]
  },
  {
   "cell_type": "code",
   "execution_count": null,
   "id": "5e55c5d8-8b91-41b9-8f88-d86e66834464",
   "metadata": {},
   "outputs": [],
   "source": []
  },
  {
   "cell_type": "code",
   "execution_count": null,
   "id": "32eea728-8a48-4976-b9a8-8789234e5c41",
   "metadata": {},
   "outputs": [],
   "source": []
  },
  {
   "cell_type": "code",
   "execution_count": 144,
   "id": "9b59c52f-8361-4c94-81cf-7c3fcce111c6",
   "metadata": {},
   "outputs": [
    {
     "name": "stdin",
     "output_type": "stream",
     "text": [
      "Enter n value:  5\n",
      "enter x value:  1\n"
     ]
    },
    {
     "name": "stdout",
     "output_type": "stream",
     "text": [
      "1 \n",
      "2 3 \n",
      "4 5 6 \n",
      "7 8 9 10 \n",
      "11 12 13 14 15 \n"
     ]
    }
   ],
   "source": [
    "n=int(input(\"Enter n value: \"))\n",
    "\n",
    "x= int(input(\"enter x value: \"))\n",
    "\n",
    "for i in range(1,n+1):\n",
    "    for j in range(1,i+1):\n",
    "        print(x,end=\" \")\n",
    "        x+=1\n",
    "    print()    \n",
    "        "
   ]
  },
  {
   "cell_type": "code",
   "execution_count": 147,
   "id": "6af81455-52b4-42dd-ba36-202be06e8878",
   "metadata": {},
   "outputs": [
    {
     "name": "stdin",
     "output_type": "stream",
     "text": [
      "Enter n value:  5\n",
      "enter x value:  1\n"
     ]
    },
    {
     "name": "stdout",
     "output_type": "stream",
     "text": [
      "* \n",
      "* * \n",
      "* * * \n",
      "* * * * \n",
      "* * * * * \n"
     ]
    }
   ],
   "source": [
    "n=int(input(\"Enter n value: \"))\n",
    "\n",
    "x= int(input(\"enter x value: \"))\n",
    "\n",
    "for i in range(1,n+1):\n",
    "    for j in range(1,i+1):\n",
    "        print(\"*\",end=\" \")\n",
    "        \n",
    "    print()    \n",
    "        "
   ]
  },
  {
   "cell_type": "code",
   "execution_count": 148,
   "id": "d9c75b7c-6c94-4bce-825c-31a7ad7eb16f",
   "metadata": {},
   "outputs": [
    {
     "name": "stdin",
     "output_type": "stream",
     "text": [
      "Enter n value:  5\n",
      "enter x value:  1\n"
     ]
    },
    {
     "name": "stdout",
     "output_type": "stream",
     "text": [
      "1 \n",
      "2 2 \n",
      "3 3 3 \n",
      "4 4 4 4 \n",
      "5 5 5 5 5 \n"
     ]
    }
   ],
   "source": [
    "n=int(input(\"Enter n value: \"))\n",
    "\n",
    "x= int(input(\"enter x value: \"))\n",
    "\n",
    "for i in range(1,n+1):\n",
    "    for j in range(1,i+1):\n",
    "        print(i,end=\" \")\n",
    "        \n",
    "    print()    \n",
    "        "
   ]
  },
  {
   "cell_type": "code",
   "execution_count": 4,
   "id": "31adfe71-f89c-42cf-b234-951258ebb5a3",
   "metadata": {},
   "outputs": [
    {
     "name": "stdin",
     "output_type": "stream",
     "text": [
      "Enter n value:  5\n"
     ]
    },
    {
     "name": "stdout",
     "output_type": "stream",
     "text": [
      "1 \n",
      "1 2 \n",
      "1 2 3 \n",
      "1 2 3 4 \n",
      "1 2 3 4 5 \n"
     ]
    }
   ],
   "source": [
    "n=int(input(\"Enter n value: \"))\n",
    "\n",
    "#x= int(input(\"enter x value: \"))\n",
    "\n",
    "for i in range(1,n+1):\n",
    "    for j in range(1,i+1):\n",
    "        print(j,end=\" \")\n",
    "        \n",
    "    print()    \n",
    "        "
   ]
  },
  {
   "cell_type": "code",
   "execution_count": 150,
   "id": "5069a0a9-bd1f-430f-871f-1a1fd78bdd7f",
   "metadata": {},
   "outputs": [
    {
     "name": "stdin",
     "output_type": "stream",
     "text": [
      "Enter n value:  6\n"
     ]
    },
    {
     "name": "stdout",
     "output_type": "stream",
     "text": [
      "@ \n",
      "# # \n",
      "@ @ @ \n",
      "# # # # \n",
      "@ @ @ @ @ \n",
      "# # # # # # \n"
     ]
    }
   ],
   "source": [
    "n=int(input(\"Enter n value: \"))\n",
    "\n",
    "#x= int(input(\"enter x value: \"))\n",
    "\n",
    "for i in range(1,n+1):\n",
    "    for j in range(1,i+1):\n",
    "        if i % 2 == 0:\n",
    "            print(\"#\",end=\" \")\n",
    "        else:\n",
    "            print(\"@\",end=\" \")\n",
    "    print()    \n",
    "        "
   ]
  },
  {
   "cell_type": "code",
   "execution_count": null,
   "id": "8c633c84-ab9c-42ea-9735-45b3840cad2b",
   "metadata": {},
   "outputs": [],
   "source": []
  },
  {
   "cell_type": "code",
   "execution_count": 3,
   "id": "d44d7b70-f3c8-40f8-94d0-d6051e39189d",
   "metadata": {},
   "outputs": [
    {
     "name": "stdin",
     "output_type": "stream",
     "text": [
      "Enter n value:  5\n"
     ]
    },
    {
     "name": "stdout",
     "output_type": "stream",
     "text": [
      "* * * * * \n",
      "*       * \n",
      "*       * \n",
      "*       * \n",
      "* * * * * \n"
     ]
    }
   ],
   "source": [
    "n=int(input(\"Enter n value: \"))\n",
    "\n",
    "#x= int(input(\"enter x value: \"))\n",
    "\n",
    "for i in range(1,n+1):\n",
    "    for j in range(1,n+1):\n",
    "        if i == 1 or i==5 or j ==1 or j==5:\n",
    "            \n",
    "            print(\"*\",end=\" \")\n",
    "        else:\n",
    "            print(\" \",end=\" \")\n",
    "        \n",
    "            \n",
    "    print()    \n",
    "        "
   ]
  },
  {
   "cell_type": "code",
   "execution_count": 168,
   "id": "052766d2-9d3a-4282-a469-a9672e43d672",
   "metadata": {},
   "outputs": [
    {
     "name": "stdin",
     "output_type": "stream",
     "text": [
      "Enter n value:  5\n"
     ]
    },
    {
     "name": "stdout",
     "output_type": "stream",
     "text": [
      "*       * \n",
      "  *   *   \n",
      "    *     \n",
      "  *   *   \n",
      "*       * \n"
     ]
    }
   ],
   "source": [
    "n=int(input(\"Enter n value: \"))\n",
    "\n",
    "#x= int(input(\"enter x value: \"))\n",
    "\n",
    "for i in range(1,n+1):\n",
    "    for j in range(1,n+1):\n",
    "        if i == j or i+j == 6:\n",
    "            \n",
    "            print(\"*\",end=\" \")\n",
    "        else:\n",
    "            print(\" \",end=\" \")\n",
    "        \n",
    "            \n",
    "    print()    \n",
    "        "
   ]
  },
  {
   "cell_type": "code",
   "execution_count": null,
   "id": "3231404f-2bed-49e0-8702-0c5d3fe6dfe1",
   "metadata": {},
   "outputs": [],
   "source": []
  },
  {
   "cell_type": "code",
   "execution_count": 170,
   "id": "ba554a36-a74a-4e3f-af10-4e9a03a76dd1",
   "metadata": {},
   "outputs": [
    {
     "name": "stdin",
     "output_type": "stream",
     "text": [
      "Enter n value:  5\n"
     ]
    },
    {
     "name": "stdout",
     "output_type": "stream",
     "text": [
      "* * * * * \n",
      "        * \n",
      "        * \n",
      "        * \n",
      "* * * * * \n"
     ]
    }
   ],
   "source": [
    "n=int(input(\"Enter n value: \"))\n",
    "\n",
    "#x= int(input(\"enter x value: \"))\n",
    "\n",
    "for i in range(1,n+1):\n",
    "    for j in range(1,n+1):\n",
    "        if i == 1 or i==5  or j==5:\n",
    "            \n",
    "            print(\"*\",end=\" \")\n",
    "        else:\n",
    "            print(\" \",end=\" \")\n",
    "        \n",
    "            \n",
    "    print()    \n",
    "        "
   ]
  },
  {
   "cell_type": "code",
   "execution_count": null,
   "id": "01017d7a-1169-4441-856e-b9a800007db8",
   "metadata": {},
   "outputs": [],
   "source": []
  },
  {
   "cell_type": "code",
   "execution_count": 171,
   "id": "a05c579d-7b86-422e-a6d7-8fb8f454587b",
   "metadata": {},
   "outputs": [
    {
     "name": "stdin",
     "output_type": "stream",
     "text": [
      "Enter n value:  5\n"
     ]
    },
    {
     "name": "stdout",
     "output_type": "stream",
     "text": [
      "* * * * * \n",
      "*         \n",
      "*         \n",
      "*         \n",
      "* * * * * \n"
     ]
    }
   ],
   "source": [
    "n=int(input(\"Enter n value: \"))\n",
    "\n",
    "#x= int(input(\"enter x value: \"))\n",
    "\n",
    "for i in range(1,n+1):\n",
    "    for j in range(1,n+1):\n",
    "        if i == 1 or i==5  or j==1:\n",
    "            \n",
    "            print(\"*\",end=\" \")\n",
    "        else:\n",
    "            print(\" \",end=\" \")\n",
    "        \n",
    "            \n",
    "    print()    \n",
    "        "
   ]
  },
  {
   "cell_type": "code",
   "execution_count": null,
   "id": "aedcdd3e-d220-492c-b205-fd548cd0c40a",
   "metadata": {},
   "outputs": [],
   "source": []
  },
  {
   "cell_type": "code",
   "execution_count": 172,
   "id": "f221a70f-c8b0-4b65-8b87-6bd239216a0b",
   "metadata": {},
   "outputs": [
    {
     "name": "stdin",
     "output_type": "stream",
     "text": [
      "Enter n value:  5\n"
     ]
    },
    {
     "name": "stdout",
     "output_type": "stream",
     "text": [
      "* * * * * \n",
      "@ @ @ @ @ \n",
      "* * * * * \n",
      "@ @ @ @ @ \n",
      "* * * * * \n"
     ]
    }
   ],
   "source": [
    "n=int(input(\"Enter n value: \"))\n",
    "\n",
    "#x= int(input(\"enter x value: \"))\n",
    "\n",
    "for i in range(1,n+1):\n",
    "    for j in range(1,n+1):\n",
    "        if i % 2 == 0:\n",
    "            print(\"@\",end=\" \")\n",
    "        else:\n",
    "            print(\"*\",end=\" \")\n",
    "    print()    \n",
    "        "
   ]
  },
  {
   "cell_type": "code",
   "execution_count": null,
   "id": "3eaf046b-3853-4328-a152-078620927a94",
   "metadata": {},
   "outputs": [],
   "source": []
  },
  {
   "cell_type": "code",
   "execution_count": null,
   "id": "45c9880b-fdf7-4f00-bc44-691edcb0c879",
   "metadata": {},
   "outputs": [],
   "source": []
  },
  {
   "cell_type": "code",
   "execution_count": null,
   "id": "d35366d3-1bb4-4207-a971-d52cb9bc2507",
   "metadata": {},
   "outputs": [],
   "source": []
  },
  {
   "cell_type": "code",
   "execution_count": null,
   "id": "8e94acb1-cc57-4e8b-9e9b-168f8cd85b22",
   "metadata": {},
   "outputs": [],
   "source": []
  },
  {
   "cell_type": "code",
   "execution_count": null,
   "id": "6c4c4c60-d8d8-4d75-a242-97f5adfdd0b2",
   "metadata": {},
   "outputs": [],
   "source": []
  },
  {
   "cell_type": "code",
   "execution_count": 2,
   "id": "c9d912a7-1b5d-430a-84b5-d9507e350661",
   "metadata": {},
   "outputs": [
    {
     "name": "stdout",
     "output_type": "stream",
     "text": [
      "45\n",
      "sum of numbers:  45.0\n",
      "45\n",
      "this is quadric\n",
      "3\n",
      "9\n"
     ]
    }
   ],
   "source": [
    "nums = [1,2,3,4,5,6,7,8,9]\n",
    "n=len(nums)\n",
    "sum=0\n",
    "\n",
    "for i in range(0,n):\n",
    "    sum += nums[i]\n",
    "\n",
    "print(sum)\n",
    "\n",
    "\n",
    "nums1 = [1,2,3,4,5,6,7,8,9]\n",
    "n1=len(nums1)\n",
    "\n",
    "print(\"sum of numbers: \",n1*(n1+1)/2)\n",
    "\n",
    "\n",
    "\n",
    "import numpy as np\n",
    "large_array = np.array(nums1)  # If it's a Python list\n",
    "total = np.sum(large_array)\n",
    "\n",
    "print(total)\n",
    "\n",
    "\n",
    "def quad(n):\n",
    "    for i in range(0,n):\n",
    "        for j in range(0,n):\n",
    "            print(\"this is quadric\")\n",
    "quad(1)            \n",
    "\n",
    "\n",
    "st = 0\n",
    "end = 6\n",
    "\n",
    "mid = (st+end)//2\n",
    "\n",
    "print(mid)\n",
    "\n",
    "print(len(nums1))\n"
   ]
  },
  {
   "cell_type": "code",
   "execution_count": null,
   "id": "8d6f7f3c-dacf-452a-a22c-53d3cdccbfc7",
   "metadata": {},
   "outputs": [],
   "source": []
  },
  {
   "cell_type": "code",
   "execution_count": null,
   "id": "94d94423-ac1d-4293-829c-87c09ab11e2b",
   "metadata": {},
   "outputs": [],
   "source": []
  },
  {
   "cell_type": "markdown",
   "id": "24e879a0-d6b4-4c02-8f10-ee8fd46320be",
   "metadata": {},
   "source": [
    "### Binary Search Algorithm"
   ]
  },
  {
   "cell_type": "code",
   "execution_count": null,
   "id": "519abf8c-870d-4c4a-9dac-dc1f50913621",
   "metadata": {},
   "outputs": [],
   "source": []
  },
  {
   "cell_type": "code",
   "execution_count": 3,
   "id": "4e31f62b-f872-4932-833b-0822d900cb9b",
   "metadata": {},
   "outputs": [
    {
     "name": "stdout",
     "output_type": "stream",
     "text": [
      "Element not found Given Array\n"
     ]
    }
   ],
   "source": [
    "def binarySearch(arr, result):\n",
    "    left = 0 \n",
    "    right = len(arr)-1\n",
    "    \n",
    "    while(left<=right):\n",
    "        mid = (left+right)//2\n",
    "        \n",
    "        if arr[mid] == target:\n",
    "            return mid\n",
    "        elif arr[mid] < target:\n",
    "            left = mid+1\n",
    "        else:\n",
    "            right = mid-1\n",
    "            \n",
    "    return -1\n",
    "\n",
    "arr = [2,3,4,5,6,8,9,10,12,50,19]\n",
    "arr.sort()\n",
    "target = 17\n",
    "\n",
    "result = binarySearch(arr, target)\n",
    "\n",
    "if result !=-1:\n",
    "    print(f\"Element {target} found the index of {result}\")\n",
    "else:\n",
    "    print(\"Element not found Given Array\")\n"
   ]
  },
  {
   "cell_type": "code",
   "execution_count": null,
   "id": "f2ebd5bd-c678-4a85-b4bd-ba6d1b7d2947",
   "metadata": {},
   "outputs": [],
   "source": []
  }
 ],
 "metadata": {
  "kernelspec": {
   "display_name": "Python 3 (ipykernel)",
   "language": "python",
   "name": "python3"
  },
  "language_info": {
   "codemirror_mode": {
    "name": "ipython",
    "version": 3
   },
   "file_extension": ".py",
   "mimetype": "text/x-python",
   "name": "python",
   "nbconvert_exporter": "python",
   "pygments_lexer": "ipython3",
   "version": "3.10.11"
  }
 },
 "nbformat": 4,
 "nbformat_minor": 5
}
